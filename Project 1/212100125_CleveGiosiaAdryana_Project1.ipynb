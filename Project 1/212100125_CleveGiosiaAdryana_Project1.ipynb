{
 "cells": [
  {
   "cell_type": "markdown",
   "id": "98c5989a",
   "metadata": {},
   "source": [
    "# Import Libraries"
   ]
  },
  {
   "cell_type": "code",
   "execution_count": 65,
   "id": "d749c67b",
   "metadata": {},
   "outputs": [],
   "source": [
    "import pandas as pd\n",
    "from pandas import read_csv\n",
    "from sklearn.model_selection import train_test_split\n",
    "from sklearn.linear_model import LogisticRegression\n",
    "from sklearn.metrics import confusion_matrix\n",
    "from sklearn.feature_selection import VarianceThreshold\n",
    "from matplotlib import pyplot"
   ]
  },
  {
   "cell_type": "markdown",
   "id": "02e49a28",
   "metadata": {},
   "source": [
    "# Functions"
   ]
  },
  {
   "cell_type": "code",
   "execution_count": 66,
   "id": "38aabc67",
   "metadata": {},
   "outputs": [],
   "source": [
    "def sensitivity(TP, FN):\n",
    "    sensitivity = TP/(TP+FN)\n",
    "    return sensitivity"
   ]
  },
  {
   "cell_type": "code",
   "execution_count": 67,
   "id": "e061d449",
   "metadata": {},
   "outputs": [],
   "source": [
    "def precision(TP, FP):\n",
    "    precision = TP/(TP+FP)\n",
    "    return precision"
   ]
  },
  {
   "cell_type": "code",
   "execution_count": 68,
   "id": "95110abf",
   "metadata": {},
   "outputs": [],
   "source": [
    "def npv(TN, FN):\n",
    "    npv = TN/(TN+FN)\n",
    "    return npv"
   ]
  },
  {
   "cell_type": "code",
   "execution_count": 69,
   "id": "86adacb0",
   "metadata": {},
   "outputs": [],
   "source": [
    "def specificity(TN, FP):\n",
    "    specificity = TN/(TN+FP)\n",
    "    return specificity"
   ]
  },
  {
   "cell_type": "code",
   "execution_count": 70,
   "id": "19fb3c57",
   "metadata": {},
   "outputs": [],
   "source": [
    "def accuracy(TP, TN, FP, FN):\n",
    "    accuracy = (TP+TN)/(TP+TN+FP+FN)\n",
    "    return accuracy"
   ]
  },
  {
   "cell_type": "markdown",
   "id": "1f6ef531",
   "metadata": {},
   "source": [
    "# Without Data Cleaning - Oil Spill"
   ]
  },
  {
   "cell_type": "code",
   "execution_count": 71,
   "id": "69a0f628",
   "metadata": {},
   "outputs": [
    {
     "name": "stdout",
     "output_type": "stream",
     "text": [
      "Sensitivity: 0.083\n",
      "Precision: 0.250\n",
      "Negative Predictive Value: 0.940\n",
      "Specificity: 0.983\n",
      "Accuracy: 0.926\n"
     ]
    },
    {
     "name": "stderr",
     "output_type": "stream",
     "text": [
      "c:\\Users\\cleve\\.conda\\envs\\data-preprocessing\\lib\\site-packages\\sklearn\\linear_model\\_logistic.py:460: ConvergenceWarning: lbfgs failed to converge (status=1):\n",
      "STOP: TOTAL NO. of ITERATIONS REACHED LIMIT.\n",
      "\n",
      "Increase the number of iterations (max_iter) or scale the data as shown in:\n",
      "    https://scikit-learn.org/stable/modules/preprocessing.html\n",
      "Please also refer to the documentation for alternative solver options:\n",
      "    https://scikit-learn.org/stable/modules/linear_model.html#logistic-regression\n",
      "  n_iter_i = _check_optimize_result(\n"
     ]
    }
   ],
   "source": [
    "# Read Data\n",
    "data = pd.read_csv('oil-spill.csv', header=None)\n",
    "\n",
    "# Membagi Data X dan y\n",
    "X, y = data.values[:,:-1], data.values[:,-1]\n",
    "X_train, X_test, y_train, y_test = train_test_split(X, y, test_size=0.2, random_state=1)\n",
    "\n",
    "# Melatih Model Logistic Regression\n",
    "model = LogisticRegression()\n",
    "model.fit(X_train, y_train)\n",
    "\n",
    "# Menghitung Prediksi\n",
    "y_pred = model.predict(X_test)\n",
    "\n",
    "# Menghitung Metrik Kinerja secara manual\n",
    "conf_matrix = confusion_matrix(y_test, y_pred)\n",
    "tn, fp, fn, tp = conf_matrix.ravel()\n",
    "\n",
    "print(f\"Sensitivity: {sensitivity(tp, fn):.3f}\")\n",
    "print(f\"Precision: {precision(tp, fp):.3f}\")\n",
    "print(f\"Negative Predictive Value: {npv(tn, fn):.3f}\")\n",
    "print(f\"Specificity: {specificity(tn, fp):.3f}\")\n",
    "print(f\"Accuracy: {accuracy(tp, tn, fp, fn):.3f}\")"
   ]
  },
  {
   "cell_type": "markdown",
   "id": "ee2d047b",
   "metadata": {},
   "source": [
    "# Identify Columns That Contain a Single Value - Oil Spill"
   ]
  },
  {
   "cell_type": "markdown",
   "id": "8cfeb942",
   "metadata": {},
   "source": [
    "### Delete Columns That Contain a Single Value"
   ]
  },
  {
   "cell_type": "code",
   "execution_count": 72,
   "id": "a5e819fd",
   "metadata": {},
   "outputs": [
    {
     "name": "stdout",
     "output_type": "stream",
     "text": [
      "Sensitivity: 0.083\n",
      "Precision: 0.167\n",
      "Negative Predictive Value: 0.940\n",
      "Specificity: 0.972\n",
      "Accuracy: 0.915\n"
     ]
    },
    {
     "name": "stderr",
     "output_type": "stream",
     "text": [
      "c:\\Users\\cleve\\.conda\\envs\\data-preprocessing\\lib\\site-packages\\sklearn\\linear_model\\_logistic.py:460: ConvergenceWarning: lbfgs failed to converge (status=1):\n",
      "STOP: TOTAL NO. of ITERATIONS REACHED LIMIT.\n",
      "\n",
      "Increase the number of iterations (max_iter) or scale the data as shown in:\n",
      "    https://scikit-learn.org/stable/modules/preprocessing.html\n",
      "Please also refer to the documentation for alternative solver options:\n",
      "    https://scikit-learn.org/stable/modules/linear_model.html#logistic-regression\n",
      "  n_iter_i = _check_optimize_result(\n"
     ]
    }
   ],
   "source": [
    "# Read Data\n",
    "data = pd.read_csv('oil-spill.csv', header=None)\n",
    "\n",
    "# Get number of unique values for each column\n",
    "counts = data.nunique()\n",
    "\n",
    "# Record columns to be deleted\n",
    "to_del = [i for i,v in enumerate(counts) if v==1]\n",
    "\n",
    "# Drop useless columns\n",
    "data.drop(to_del, axis=1, inplace=True)\n",
    "\n",
    "# Membagi Data X dan y\n",
    "X, y = data.values[:,:-1], data.values[:,-1]\n",
    "X_train, X_test, y_train, y_test = train_test_split(X, y, test_size=0.2, random_state=1)\n",
    "\n",
    "# Melatih Model Logistic Regression\n",
    "model = LogisticRegression()\n",
    "model.fit(X_train, y_train)\n",
    "\n",
    "# Menghitung Prediksi\n",
    "y_pred = model.predict(X_test)\n",
    "\n",
    "# Menghitung Metrik Kinerja secara manual\n",
    "conf_matrix = confusion_matrix(y_test, y_pred)\n",
    "tn, fp, fn, tp = conf_matrix.ravel()\n",
    "\n",
    "print(f\"Sensitivity: {sensitivity(tp, fn):.3f}\")\n",
    "print(f\"Precision: {precision(tp, fp):.3f}\")\n",
    "print(f\"Negative Predictive Value: {npv(tn, fn):.3f}\")\n",
    "print(f\"Specificity: {specificity(tn, fp):.3f}\")\n",
    "print(f\"Accuracy: {accuracy(tp, tn, fp, fn):.3f}\")"
   ]
  },
  {
   "cell_type": "markdown",
   "id": "c6f011a6",
   "metadata": {},
   "source": [
    "# Remove Columns That Have Very Few Values - Oill Spill"
   ]
  },
  {
   "cell_type": "markdown",
   "id": "7b9dc29f",
   "metadata": {},
   "source": [
    "### Delete columns with low values"
   ]
  },
  {
   "cell_type": "code",
   "execution_count": 73,
   "id": "35364e56",
   "metadata": {},
   "outputs": [
    {
     "name": "stdout",
     "output_type": "stream",
     "text": [
      "(937, 50)\n",
      "[21, 22, 24, 25, 26, 32, 36, 38, 39, 45]\n",
      "(937, 39)\n",
      "Sensitivity: 0.083\n",
      "Precision: 0.125\n",
      "Negative Predictive Value: 0.939\n",
      "Specificity: 0.960\n",
      "Accuracy: 0.904\n"
     ]
    },
    {
     "name": "stderr",
     "output_type": "stream",
     "text": [
      "c:\\Users\\cleve\\.conda\\envs\\data-preprocessing\\lib\\site-packages\\sklearn\\linear_model\\_logistic.py:460: ConvergenceWarning: lbfgs failed to converge (status=1):\n",
      "STOP: TOTAL NO. of ITERATIONS REACHED LIMIT.\n",
      "\n",
      "Increase the number of iterations (max_iter) or scale the data as shown in:\n",
      "    https://scikit-learn.org/stable/modules/preprocessing.html\n",
      "Please also refer to the documentation for alternative solver options:\n",
      "    https://scikit-learn.org/stable/modules/linear_model.html#logistic-regression\n",
      "  n_iter_i = _check_optimize_result(\n"
     ]
    }
   ],
   "source": [
    "# delete columns where number of unique values is less than 1% of the rows\n",
    "# Load the dataset\n",
    "data = pd.read_csv('oil-spill.csv', header=None)\n",
    "print(data.shape)\n",
    "\n",
    "# Split data into X and y\n",
    "X, y = data.values[:, :-1], data.values[:, -1]\n",
    "\n",
    "# Convert X into a DataFrame\n",
    "X = pd.DataFrame(X)\n",
    "\n",
    "# Get number of unique values for each column of X\n",
    "counts = X.nunique()\n",
    "\n",
    "# Record columns to delete\n",
    "to_del = [i for i, v in enumerate(counts) if (float(v) / X.shape[0] * 100) < 1]\n",
    "print(to_del)\n",
    "\n",
    "# Drop useless columns from X\n",
    "X = X.drop(to_del, axis=1)\n",
    "print(X.shape)\n",
    "\n",
    "# Split data into training and test sets\n",
    "X_train, X_test, y_train, y_test = train_test_split(X, y, test_size=0.2, random_state=1)\n",
    "\n",
    "# Train the Logistic Regression model\n",
    "model = LogisticRegression()\n",
    "model.fit(X_train, y_train)\n",
    "\n",
    "# Calculate predictions\n",
    "y_pred = model.predict(X_test)\n",
    "\n",
    "# Calculate performance metrics\n",
    "conf_matrix = confusion_matrix(y_test, y_pred)\n",
    "tn, fp, fn, tp = conf_matrix.ravel()\n",
    "\n",
    "print(f\"Sensitivity: {sensitivity(tp, fn):.3f}\")\n",
    "print(f\"Precision: {precision(tp, fp):.3f}\")\n",
    "print(f\"Negative Predictive Value: {npv(tn, fn):.3f}\")\n",
    "print(f\"Specificity: {specificity(tn, fp):.3f}\")\n",
    "print(f\"Accuracy: {accuracy(tp, tn, fp, fn):.3f}\")"
   ]
  },
  {
   "cell_type": "markdown",
   "id": "855854c6",
   "metadata": {},
   "source": [
    "# Remove Columns That Have A Low Variance - Oil Spill"
   ]
  },
  {
   "cell_type": "markdown",
   "id": "8d3dd6fc",
   "metadata": {},
   "source": [
    "### Reviewing the effect of different variance thresholds on the number of features in the transformed dataset."
   ]
  },
  {
   "cell_type": "code",
   "execution_count": 74,
   "id": "325bafb8",
   "metadata": {},
   "outputs": [
    {
     "name": "stdout",
     "output_type": "stream",
     "text": [
      "(937, 49) (937,)\n",
      ">Threshold=0.00, Features=48\n",
      ">Threshold=0.05, Features=37\n",
      ">Threshold=0.10, Features=36\n",
      ">Threshold=0.15, Features=35\n",
      ">Threshold=0.20, Features=35\n",
      ">Threshold=0.25, Features=35\n",
      ">Threshold=0.30, Features=35\n",
      ">Threshold=0.35, Features=35\n",
      ">Threshold=0.40, Features=35\n",
      ">Threshold=0.45, Features=33\n",
      ">Threshold=0.50, Features=31\n"
     ]
    },
    {
     "data": {
      "image/png": "[encoded data removed]",
      "text/plain": [
       "<Figure size 640x480 with 1 Axes>"
      ]
     },
     "metadata": {},
     "output_type": "display_data"
    }
   ],
   "source": [
    "# explore the effect of the variance thresholds on the number of selected features\n",
    "# load the dataset\n",
    "df = read_csv('oil-spill.csv', header=None)\n",
    "# split data into inputs and outputs\n",
    "data = df.values\n",
    "X = data[:, :-1]\n",
    "y = data[:, -1]\n",
    "print(X.shape, y.shape)\n",
    "# define thresholds to check\n",
    "thresholds = arange(0.0, 0.55, 0.05)\n",
    "# apply transform with each threshold\n",
    "results = list()\n",
    "for t in thresholds:\n",
    "    # define the transform\n",
    "    transform = VarianceThreshold(threshold=t)\n",
    "    # transform the input data\n",
    "    X_sel = transform.fit_transform(X)\n",
    "    # determine the number of input features\n",
    "    n_features = X_sel.shape[1]\n",
    "    print('>Threshold=%.2f, Features=%d' % (t, n_features))\n",
    "    # store the result\n",
    "    results.append(n_features)\n",
    "# plot the threshold vs the number of selected features\n",
    "pyplot.plot(thresholds, results)\n",
    "pyplot.show()"
   ]
  },
  {
   "cell_type": "markdown",
   "id": "3fd6aa2d",
   "metadata": {},
   "source": [
    "### Remove columns with low variance"
   ]
  },
  {
   "cell_type": "code",
   "execution_count": 75,
   "id": "df01a651",
   "metadata": {},
   "outputs": [
    {
     "name": "stdout",
     "output_type": "stream",
     "text": [
      "Sensitivity: 0.083\n",
      "Precision: 0.200\n",
      "Negative Predictive Value: 0.940\n",
      "Specificity: 0.977\n",
      "Accuracy: 0.920\n"
     ]
    },
    {
     "name": "stderr",
     "output_type": "stream",
     "text": [
      "c:\\Users\\cleve\\.conda\\envs\\data-preprocessing\\lib\\site-packages\\sklearn\\linear_model\\_logistic.py:460: ConvergenceWarning: lbfgs failed to converge (status=1):\n",
      "STOP: TOTAL NO. of ITERATIONS REACHED LIMIT.\n",
      "\n",
      "Increase the number of iterations (max_iter) or scale the data as shown in:\n",
      "    https://scikit-learn.org/stable/modules/preprocessing.html\n",
      "Please also refer to the documentation for alternative solver options:\n",
      "    https://scikit-learn.org/stable/modules/linear_model.html#logistic-regression\n",
      "  n_iter_i = _check_optimize_result(\n"
     ]
    }
   ],
   "source": [
    "# load the dataset\n",
    "df = read_csv('oil-spill.csv', header=None)\n",
    "# split data into inputs and outputs\n",
    "data = df.values\n",
    "X = data[:, :-1]\n",
    "y = data[:, -1]\n",
    "# define the transform\n",
    "transform = VarianceThreshold(threshold=0.15)\n",
    "# transform the input data\n",
    "X_sel = transform.fit_transform(X)\n",
    "\n",
    "X_train, X_test, y_train, y_test = train_test_split(X_sel, y, test_size=0.2, random_state=1)\n",
    "\n",
    "# Melatih Model Logistic Regression\n",
    "model = LogisticRegression()\n",
    "model.fit(X_train, y_train)\n",
    "\n",
    "# Menghitung Prediksi\n",
    "y_pred = model.predict(X_test)\n",
    "\n",
    "# Menghitung Metrik Kinerja secara manual\n",
    "conf_matrix = confusion_matrix(y_test, y_pred)\n",
    "tn, fp, fn, tp = conf_matrix.ravel()\n",
    "\n",
    "print(f\"Sensitivity: {sensitivity(tp, fn):.3f}\")\n",
    "print(f\"Precision: {precision(tp, fp):.3f}\")\n",
    "print(f\"Negative Predictive Value: {npv(tn, fn):.3f}\")\n",
    "print(f\"Specificity: {specificity(tn, fp):.3f}\")\n",
    "print(f\"Accuracy: {accuracy(tp, tn, fp, fn):.3f}\")"
   ]
  },
  {
   "cell_type": "markdown",
   "id": "9ef9ecc1",
   "metadata": {},
   "source": [
    "# Without Data Cleaning - Iris"
   ]
  },
  {
   "cell_type": "code",
   "execution_count": 76,
   "id": "0049c237",
   "metadata": {},
   "outputs": [
    {
     "name": "stdout",
     "output_type": "stream",
     "text": [
      "[[11  0  0]\n",
      " [ 0 12  1]\n",
      " [ 0  0  6]]\n",
      "Sensitivity: 1.000\n",
      "Precision: 0.923\n",
      "Negative Predictive Value: 1.000\n",
      "Specificity: 0.857\n",
      "Accuracy: 0.947\n"
     ]
    }
   ],
   "source": [
    "# Read Data\n",
    "data = pd.read_csv('iris.csv', header=None)\n",
    "# Membagi Data X dan y\n",
    "X = data.iloc[:, :-1]\n",
    "y = data.iloc[:, -1]\n",
    "\n",
    "X_train, X_test, y_train, y_test = train_test_split(X, y, test_size=0.2, random_state=1)\n",
    "\n",
    "# Melatih Model Logistic Regression\n",
    "model = LogisticRegression()\n",
    "model.fit(X_train, y_train)\n",
    "\n",
    "# Menghitung Prediksi\n",
    "y_pred = model.predict(X_test)\n",
    "\n",
    "# Menghitung Metrik Kinerja secara manual\n",
    "conf_matrix = confusion_matrix(y_test, y_pred)\n",
    "print(conf_matrix)\n",
    "\n",
    "# Calculate True Negatives (TN)\n",
    "tn = conf_matrix[2][2]\n",
    "\n",
    "# Calculate False Positives (FP)\n",
    "fp = conf_matrix[0][1] + conf_matrix[1][2]\n",
    "\n",
    "# Calculate False Negatives (FN)\n",
    "fn = conf_matrix[1][0] + conf_matrix[2][1]\n",
    "\n",
    "# Calculate True Positives (TP)\n",
    "tp = conf_matrix[1][1]\n",
    "\n",
    "print(f\"Sensitivity: {sensitivity(tp, fn):.3f}\")\n",
    "print(f\"Precision: {precision(tp, fp):.3f}\")\n",
    "print(f\"Negative Predictive Value: {npv(tn, fn):.3f}\")\n",
    "print(f\"Specificity: {specificity(tn, fp):.3f}\")\n",
    "print(f\"Accuracy: {accuracy(tp, tn, fp, fn):.3f}\")"
   ]
  },
  {
   "cell_type": "markdown",
   "id": "f4996690",
   "metadata": {},
   "source": [
    "# Remove data with duplicated values - Iris"
   ]
  },
  {
   "cell_type": "code",
   "execution_count": 77,
   "id": "61c66b6c",
   "metadata": {},
   "outputs": [
    {
     "name": "stdout",
     "output_type": "stream",
     "text": [
      "True\n",
      "       0    1    2    3               4\n",
      "34   4.9  3.1  1.5  0.1     Iris-setosa\n",
      "37   4.9  3.1  1.5  0.1     Iris-setosa\n",
      "142  5.8  2.7  5.1  1.9  Iris-virginica\n",
      "(147, 5)\n",
      "[[ 9  0  0]\n",
      " [ 0 12  1]\n",
      " [ 0  1  7]]\n",
      "Sensitivity: 0.923\n",
      "Precision: 0.923\n",
      "Negative Predictive Value: 0.875\n",
      "Specificity: 0.875\n",
      "Accuracy: 0.905\n"
     ]
    },
    {
     "name": "stderr",
     "output_type": "stream",
     "text": [
      "c:\\Users\\cleve\\.conda\\envs\\data-preprocessing\\lib\\site-packages\\sklearn\\linear_model\\_logistic.py:460: ConvergenceWarning: lbfgs failed to converge (status=1):\n",
      "STOP: TOTAL NO. of ITERATIONS REACHED LIMIT.\n",
      "\n",
      "Increase the number of iterations (max_iter) or scale the data as shown in:\n",
      "    https://scikit-learn.org/stable/modules/preprocessing.html\n",
      "Please also refer to the documentation for alternative solver options:\n",
      "    https://scikit-learn.org/stable/modules/linear_model.html#logistic-regression\n",
      "  n_iter_i = _check_optimize_result(\n"
     ]
    }
   ],
   "source": [
    "# Read Data\n",
    "data = pd.read_csv('iris.csv', header=None)\n",
    "\n",
    "# calculate duplicates\n",
    "dups = data.duplicated()\n",
    "# report if there are any duplicates\n",
    "print(dups.any())\n",
    "# list all duplicate rows\n",
    "print(data[dups])\n",
    "# delete duplicate rows\n",
    "data.drop_duplicates(inplace=True)\n",
    "print(data.shape)\n",
    "\n",
    "# Membagi Data X dan y\n",
    "X = data.iloc[:, :-1]\n",
    "y = data.iloc[:, -1]\n",
    "\n",
    "X_train, X_test, y_train, y_test = train_test_split(X, y, test_size=0.2, random_state=1)\n",
    "\n",
    "# Melatih Model Logistic Regression\n",
    "model = LogisticRegression()\n",
    "model.fit(X_train, y_train)\n",
    "\n",
    "# Menghitung Prediksi\n",
    "y_pred = model.predict(X_test)\n",
    "\n",
    "# Menghitung Metrik Kinerja secara manual\n",
    "conf_matrix = confusion_matrix(y_test, y_pred)\n",
    "print(conf_matrix)\n",
    "\n",
    "# Calculate True Negatives (TN)\n",
    "tn = conf_matrix[2][2]\n",
    "\n",
    "# Calculate False Positives (FP)\n",
    "fp = conf_matrix[0][1] + conf_matrix[1][2]\n",
    "\n",
    "# Calculate False Negatives (FN)\n",
    "fn = conf_matrix[1][0] + conf_matrix[2][1]\n",
    "\n",
    "# Calculate True Positives (TP)\n",
    "tp = conf_matrix[1][1]\n",
    "\n",
    "print(f\"Sensitivity: {sensitivity(tp, fn):.3f}\")\n",
    "print(f\"Precision: {precision(tp, fp):.3f}\")\n",
    "print(f\"Negative Predictive Value: {npv(tn, fn):.3f}\")\n",
    "print(f\"Specificity: {specificity(tn, fp):.3f}\")\n",
    "print(f\"Accuracy: {accuracy(tp, tn, fp, fn):.3f}\")\n",
    "\n"
   ]
  },
  {
   "cell_type": "markdown",
   "id": "eac1643d",
   "metadata": {},
   "source": [
    "# Ringkasan"
   ]
  },
  {
   "cell_type": "markdown",
   "id": "e62f32b9",
   "metadata": {},
   "source": [
    "1. **Impor Modul yang Diperlukan:**\n",
    "   - Pandas untuk mengelola data tabular.\n",
    "   - `train_test_split` dari `sklearn.model_selection` untuk membagi data menjadi data pelatihan dan pengujian.\n",
    "   - `LogisticRegression` dari `sklearn.linear_model` untuk melatih model Regresi Logistik.\n",
    "   - `confusion_matrix` dari `sklearn.metrics` untuk menghitung confusion matrix.\n",
    "   - `VarianceThreshold` dari `sklearn.feature_selection` untuk menghapus fitur dengan varian rendah.\n",
    "   - `pyplot` dari `matplotlib` untuk membuat plot.\n",
    "\n",
    "2. **Mengimpor Dataset:**\n",
    "   - Membaca dataset 'oil-spill.csv' ke dalam objek DataFrame 'data'.\n",
    "\n",
    "3. **Membagi Data:**\n",
    "   - Membagi data menjadi fitur (X) dan target (y), lalu membagi mereka menjadi data pelatihan dan pengujian dengan rasio 80:20.\n",
    "\n",
    "4. **Melatih Model Regresi Logistik:**\n",
    "   - Menggunakan model Regresi Logistik untuk melatih data pelatihan.\n",
    "\n",
    "5. **Menggunakan Model yang Dilatih:**\n",
    "   - Menggunakan model yang dilatih untuk membuat prediksi pada data pengujian.\n",
    "\n",
    "6. **Menghitung Metrik Kinerja:**\n",
    "   - Menghitung metrik kinerja seperti Sensitivity, Precision, Negative Predictive Value, Specificity, dan Accuracy dengan menggunakan confusion matrix yang dihasilkan.\n",
    "\n",
    "7. **Menghapus Fitur dengan Varian Rendah:**\n",
    "   - Menghapus fitur dengan varian rendah (fitur dengan jumlah unik kurang dari 1% dari jumlah baris) dan mengulangi proses pelatihan dan pengujian model.\n",
    "\n",
    "8. **Menggunakan Variasi Ambang Batas:**\n",
    "   - Menggunakan variasi ambang batas untuk mengukur dampak ambang batas varian pada jumlah fitur yang dipilih.\n",
    "\n",
    "9. **Melatih Model pada Dataset 'iris.csv':**\n",
    "   - Membaca dataset 'iris.csv', membagi data menjadi data pelatihan dan pengujian, dan melatih model Regresi Logistik.\n",
    "\n",
    "10. **Menghitung Metrik Kinerja pada Dataset 'iris.csv':**\n",
    "    - Menghitung metrik kinerja model pada data 'iris.csv'.\n",
    "\n",
    "11. **Mengecek dan Menghapus Duplikat:**\n",
    "    - Mengecek dan menghapus duplikat baris dalam dataset 'iris.csv', lalu mengulangi proses pelatihan dan pengujian model.\n"
   ]
  },
  {
   "cell_type": "markdown",
   "id": "4d169c42",
   "metadata": {},
   "source": [
    "# Kesimpulan"
   ]
  },
  {
   "cell_type": "markdown",
   "id": "4c65c296",
   "metadata": {},
   "source": [
    "Secara kesimpulan, tugas ini telah menyoroti langkah-langkah penting dalam membersihkan data yang sangat diperlukan untuk setiap dataset. Ini termasuk penghapusan kolom dengan hanya satu nilai, pertimbangan terhadap kolom dengan sedikit nilai unik, dan identifikasi serta penghapusan baris duplikat. Dengan menerapkan praktik-praktik ini, kita dapat memastikan kualitas dan keandalan dataset kita untuk analisis dan pemodelan lebih lanjut."
   ]
  }
 ],
 "metadata": {
  "kernelspec": {
   "display_name": "Python 3 (ipykernel)",
   "language": "python",
   "name": "python3"
  },
  "language_info": {
   "codemirror_mode": {
    "name": "ipython",
    "version": 3
   },
   "file_extension": ".py",
   "mimetype": "text/x-python",
   "name": "python",
   "nbconvert_exporter": "python",
   "pygments_lexer": "ipython3",
   "version": "3.10.12"
  }
 },
 "nbformat": 4,
 "nbformat_minor": 5
}
