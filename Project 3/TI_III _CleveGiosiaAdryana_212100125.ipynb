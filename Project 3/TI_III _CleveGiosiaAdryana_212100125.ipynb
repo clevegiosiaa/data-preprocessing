{
 "cells": [
  {
   "cell_type": "markdown",
   "id": "5b7a9531",
   "metadata": {},
   "source": [
    "## Menggabungkan Data Januari sampai Desember"
   ]
  },
  {
   "cell_type": "code",
   "execution_count": 1,
   "id": "5cfdcdc3",
   "metadata": {},
   "outputs": [],
   "source": [
    "import pandas as pd\n",
    "\n",
    "# Buat list nama file CSV\n",
    "bulan = ['januari', 'februari', 'maret', 'april', 'mei', 'juni', 'juli', 'agustus', 'september', 'oktober', 'november', 'desember']\n",
    "file_names = [f\"{b}-2019-data-kecepatan-rata-rata-di-41-koridor-jalan-utama-pada-jam-sibuk.csv\" for b in bulan]\n",
    "\n",
    "# Baca file CSV dan simpan dalam list DataFrame\n",
    "dfs = [pd.read_csv(file_name) for file_name in file_names]\n",
    "\n",
    "# Gabungkan semua DataFrame menjadi satu DataFrame\n",
    "df_gabungan = pd.concat(dfs)\n",
    "df_gabungan.dropna(inplace=True)\n",
    "\n",
    "# Opsional: Simpan DataFrame gabungan ke file CSV baru\n",
    "df_gabungan.to_csv(\"combined_data.csv\", index=False)\n"
   ]
  },
  {
   "cell_type": "markdown",
   "id": "775cb241",
   "metadata": {},
   "source": [
    "## Eksplorasi data"
   ]
  },
  {
   "cell_type": "code",
   "execution_count": 2,
   "id": "af3a0235",
   "metadata": {},
   "outputs": [
    {
     "name": "stdout",
     "output_type": "stream",
     "text": [
      "(943, 9)\n",
      "       target_kecepatan       jarak  target_waktu_tempuh  \\\n",
      "count        943.000000  943.000000           943.000000   \n",
      "mean          21.304348   15.028780            42.482789   \n",
      "std            1.309022    3.039182             8.977026   \n",
      "min           19.000000    8.450000            21.130000   \n",
      "25%           20.500000   13.130000            36.640000   \n",
      "50%           21.000000   14.670000            41.910000   \n",
      "75%           22.000000   17.050000            47.770000   \n",
      "max           24.000000   21.210000            66.980000   \n",
      "\n",
      "       pencapaian_kecepatan_per_koridor  pencapaian_kecepatan  \\\n",
      "count                        943.000000            943.000000   \n",
      "mean                          25.929279             25.929862   \n",
      "std                            5.495554              4.315010   \n",
      "min                           14.760000             16.880000   \n",
      "25%                           22.245000             22.600000   \n",
      "50%                           25.170000             25.350000   \n",
      "75%                           29.230000             29.135000   \n",
      "max                           50.140000             38.330000   \n",
      "\n",
      "       pencapaian_waktu_tempuh  \n",
      "count               943.000000  \n",
      "mean                 41.392587  \n",
      "std                  13.060761  \n",
      "min                  13.560000  \n",
      "25%                  31.520000  \n",
      "50%                  40.190000  \n",
      "75%                  50.250000  \n",
      "max                  83.040000  \n"
     ]
    },
    {
     "data": {
      "text/html": [
       "<div>\n",
       "<style scoped>\n",
       "    .dataframe tbody tr th:only-of-type {\n",
       "        vertical-align: middle;\n",
       "    }\n",
       "\n",
       "    .dataframe tbody tr th {\n",
       "        vertical-align: top;\n",
       "    }\n",
       "\n",
       "    .dataframe thead th {\n",
       "        text-align: right;\n",
       "    }\n",
       "</style>\n",
       "<table border=\"1\" class=\"dataframe\">\n",
       "  <thead>\n",
       "    <tr style=\"text-align: right;\">\n",
       "      <th></th>\n",
       "      <th>waktu</th>\n",
       "      <th>arah</th>\n",
       "      <th>koridor</th>\n",
       "      <th>target_kecepatan</th>\n",
       "      <th>jarak</th>\n",
       "      <th>target_waktu_tempuh</th>\n",
       "      <th>pencapaian_kecepatan_per_koridor</th>\n",
       "      <th>pencapaian_kecepatan</th>\n",
       "      <th>pencapaian_waktu_tempuh</th>\n",
       "    </tr>\n",
       "  </thead>\n",
       "  <tbody>\n",
       "    <tr>\n",
       "      <th>0</th>\n",
       "      <td>pagi</td>\n",
       "      <td>Selatan - Pusat</td>\n",
       "      <td>Lenteng Agung - Ps. Minggu - Supomo - dr. Saha...</td>\n",
       "      <td>20.5</td>\n",
       "      <td>19.62</td>\n",
       "      <td>57.43</td>\n",
       "      <td>22.70</td>\n",
       "      <td>22.98</td>\n",
       "      <td>63.83</td>\n",
       "    </tr>\n",
       "    <tr>\n",
       "      <th>1</th>\n",
       "      <td>pagi</td>\n",
       "      <td>Selatan - Pusat</td>\n",
       "      <td>Cilandak KKO - Warung Buncit - Mampang Prapata...</td>\n",
       "      <td>20.5</td>\n",
       "      <td>13.36</td>\n",
       "      <td>39.10</td>\n",
       "      <td>25.43</td>\n",
       "      <td>22.98</td>\n",
       "      <td>37.71</td>\n",
       "    </tr>\n",
       "    <tr>\n",
       "      <th>2</th>\n",
       "      <td>pagi</td>\n",
       "      <td>Selatan - Pusat</td>\n",
       "      <td>Pangeran Antasari - Prapanca - Iskandarsyah - ...</td>\n",
       "      <td>20.5</td>\n",
       "      <td>11.13</td>\n",
       "      <td>32.58</td>\n",
       "      <td>27.54</td>\n",
       "      <td>22.98</td>\n",
       "      <td>26.99</td>\n",
       "    </tr>\n",
       "    <tr>\n",
       "      <th>3</th>\n",
       "      <td>pagi</td>\n",
       "      <td>Selatan - Pusat</td>\n",
       "      <td>Pondok Labu - Fatmawati - Panglima Polim - Sis...</td>\n",
       "      <td>20.5</td>\n",
       "      <td>16.25</td>\n",
       "      <td>47.56</td>\n",
       "      <td>22.20</td>\n",
       "      <td>22.98</td>\n",
       "      <td>50.82</td>\n",
       "    </tr>\n",
       "    <tr>\n",
       "      <th>4</th>\n",
       "      <td>pagi</td>\n",
       "      <td>Selatan - Pusat</td>\n",
       "      <td>Pasar Jumat - Metro Pondok Indah - Iskandar Mu...</td>\n",
       "      <td>20.5</td>\n",
       "      <td>15.87</td>\n",
       "      <td>46.45</td>\n",
       "      <td>25.99</td>\n",
       "      <td>22.98</td>\n",
       "      <td>42.06</td>\n",
       "    </tr>\n",
       "    <tr>\n",
       "      <th>...</th>\n",
       "      <td>...</td>\n",
       "      <td>...</td>\n",
       "      <td>...</td>\n",
       "      <td>...</td>\n",
       "      <td>...</td>\n",
       "      <td>...</td>\n",
       "      <td>...</td>\n",
       "      <td>...</td>\n",
       "      <td>...</td>\n",
       "    </tr>\n",
       "    <tr>\n",
       "      <th>938</th>\n",
       "      <td>Sore</td>\n",
       "      <td>Pusat - Utara</td>\n",
       "      <td>Letjend. Suprapto - Yos Sudarso - Bollevard Ba...</td>\n",
       "      <td>23.0</td>\n",
       "      <td>20.29</td>\n",
       "      <td>52.93</td>\n",
       "      <td>21.16</td>\n",
       "      <td>22.49</td>\n",
       "      <td>58.65</td>\n",
       "    </tr>\n",
       "    <tr>\n",
       "      <th>939</th>\n",
       "      <td>Sore</td>\n",
       "      <td>Pusat - Barat</td>\n",
       "      <td>Hayam Wuruk - Hasyim Ashari - Kyai Tapa - Daan...</td>\n",
       "      <td>23.0</td>\n",
       "      <td>14.47</td>\n",
       "      <td>37.75</td>\n",
       "      <td>20.72</td>\n",
       "      <td>21.67</td>\n",
       "      <td>46.75</td>\n",
       "    </tr>\n",
       "    <tr>\n",
       "      <th>940</th>\n",
       "      <td>Sore</td>\n",
       "      <td>Pusat - Barat</td>\n",
       "      <td>Hayam Wuruk - Balikpapan - Tomang Raya - S. Pa...</td>\n",
       "      <td>23.0</td>\n",
       "      <td>15.55</td>\n",
       "      <td>40.57</td>\n",
       "      <td>18.11</td>\n",
       "      <td>21.67</td>\n",
       "      <td>54.13</td>\n",
       "    </tr>\n",
       "    <tr>\n",
       "      <th>941</th>\n",
       "      <td>Sore</td>\n",
       "      <td>Pusat - Barat</td>\n",
       "      <td>Kebon Sirih - Jatibaru - Katamso - Kemanggisan...</td>\n",
       "      <td>23.0</td>\n",
       "      <td>17.43</td>\n",
       "      <td>45.47</td>\n",
       "      <td>24.61</td>\n",
       "      <td>21.67</td>\n",
       "      <td>50.71</td>\n",
       "    </tr>\n",
       "    <tr>\n",
       "      <th>942</th>\n",
       "      <td>Sore</td>\n",
       "      <td>Pusat - Barat</td>\n",
       "      <td>Kebon Sirih - Jatibaru - Katamso - Kemanggisan...</td>\n",
       "      <td>23.0</td>\n",
       "      <td>16.23</td>\n",
       "      <td>42.34</td>\n",
       "      <td>23.22</td>\n",
       "      <td>21.67</td>\n",
       "      <td>48.24</td>\n",
       "    </tr>\n",
       "  </tbody>\n",
       "</table>\n",
       "<p>943 rows × 9 columns</p>\n",
       "</div>"
      ],
      "text/plain": [
       "    waktu             arah                                            koridor  \\\n",
       "0    pagi  Selatan - Pusat  Lenteng Agung - Ps. Minggu - Supomo - dr. Saha...   \n",
       "1    pagi  Selatan - Pusat  Cilandak KKO - Warung Buncit - Mampang Prapata...   \n",
       "2    pagi  Selatan - Pusat  Pangeran Antasari - Prapanca - Iskandarsyah - ...   \n",
       "3    pagi  Selatan - Pusat  Pondok Labu - Fatmawati - Panglima Polim - Sis...   \n",
       "4    pagi  Selatan - Pusat  Pasar Jumat - Metro Pondok Indah - Iskandar Mu...   \n",
       "..    ...              ...                                                ...   \n",
       "938  Sore    Pusat - Utara  Letjend. Suprapto - Yos Sudarso - Bollevard Ba...   \n",
       "939  Sore    Pusat - Barat  Hayam Wuruk - Hasyim Ashari - Kyai Tapa - Daan...   \n",
       "940  Sore    Pusat - Barat  Hayam Wuruk - Balikpapan - Tomang Raya - S. Pa...   \n",
       "941  Sore    Pusat - Barat  Kebon Sirih - Jatibaru - Katamso - Kemanggisan...   \n",
       "942  Sore    Pusat - Barat  Kebon Sirih - Jatibaru - Katamso - Kemanggisan...   \n",
       "\n",
       "     target_kecepatan  jarak  target_waktu_tempuh  \\\n",
       "0                20.5  19.62                57.43   \n",
       "1                20.5  13.36                39.10   \n",
       "2                20.5  11.13                32.58   \n",
       "3                20.5  16.25                47.56   \n",
       "4                20.5  15.87                46.45   \n",
       "..                ...    ...                  ...   \n",
       "938              23.0  20.29                52.93   \n",
       "939              23.0  14.47                37.75   \n",
       "940              23.0  15.55                40.57   \n",
       "941              23.0  17.43                45.47   \n",
       "942              23.0  16.23                42.34   \n",
       "\n",
       "     pencapaian_kecepatan_per_koridor  pencapaian_kecepatan  \\\n",
       "0                               22.70                 22.98   \n",
       "1                               25.43                 22.98   \n",
       "2                               27.54                 22.98   \n",
       "3                               22.20                 22.98   \n",
       "4                               25.99                 22.98   \n",
       "..                                ...                   ...   \n",
       "938                             21.16                 22.49   \n",
       "939                             20.72                 21.67   \n",
       "940                             18.11                 21.67   \n",
       "941                             24.61                 21.67   \n",
       "942                             23.22                 21.67   \n",
       "\n",
       "     pencapaian_waktu_tempuh  \n",
       "0                      63.83  \n",
       "1                      37.71  \n",
       "2                      26.99  \n",
       "3                      50.82  \n",
       "4                      42.06  \n",
       "..                       ...  \n",
       "938                    58.65  \n",
       "939                    46.75  \n",
       "940                    54.13  \n",
       "941                    50.71  \n",
       "942                    48.24  \n",
       "\n",
       "[943 rows x 9 columns]"
      ]
     },
     "metadata": {},
     "output_type": "display_data"
    },
    {
     "data": {
      "image/png": "[encoded data removed]",
      "text/plain": [
       "<Figure size 640x480 with 6 Axes>"
      ]
     },
     "metadata": {},
     "output_type": "display_data"
    }
   ],
   "source": [
    "import pandas as pd\n",
    "from pandas import read_csv\n",
    "from pandas import DataFrame\n",
    "from matplotlib import pyplot\n",
    "\n",
    "# load the dataset\n",
    "dataset = read_csv('combined_data.csv')\n",
    "\n",
    "# summarize the shape of the dataset\n",
    "print(dataset.shape)\n",
    "\n",
    "# summarize each variable\n",
    "print(dataset.describe())\n",
    "\n",
    "display(dataset)\n",
    "\n",
    "# histograms of the variables\n",
    "fig = dataset.hist(xlabelsize=4, ylabelsize=4)\n",
    "[i.title.set_size(4) for i in fig.ravel()]\n",
    "# show the plot\n",
    "pyplot.show()"
   ]
  },
  {
   "cell_type": "markdown",
   "id": "5e53b618",
   "metadata": {},
   "source": [
    "## Hitunglah akurasi model regresi linear (gunakan cross validation) tanpa menggunakan scaling maupun encoder"
   ]
  },
  {
   "cell_type": "code",
   "execution_count": 3,
   "id": "90d4ef61",
   "metadata": {},
   "outputs": [
    {
     "name": "stdout",
     "output_type": "stream",
     "text": [
      "Original Data MAE: 2.025 (0.173)\n"
     ]
    }
   ],
   "source": [
    "import numpy as np\n",
    "from numpy import mean\n",
    "from numpy import std\n",
    "from numpy import absolute\n",
    "from pandas import read_csv\n",
    "from sklearn.model_selection import cross_val_score, KFold\n",
    "from sklearn.linear_model import LinearRegression\n",
    "\n",
    "# Membaca dataset\n",
    "dataset = read_csv('combined_data.csv')\n",
    "\n",
    "# Memisahkan atribut (fitur) dan label (target)\n",
    "X = dataset[['target_kecepatan', 'jarak', 'target_waktu_tempuh', 'pencapaian_kecepatan_per_koridor', 'pencapaian_waktu_tempuh']]\n",
    "y = dataset['pencapaian_kecepatan']\n",
    "\n",
    "# define and configure the model\n",
    "model = LinearRegression()\n",
    "\n",
    "# evaluate the model\n",
    "kf = KFold(n_splits=10, shuffle=True, random_state=1)\n",
    "scores = cross_val_score(model, X, y, scoring='neg_mean_absolute_error', cv=kf, n_jobs=-1)\n",
    "scores = absolute(scores)\n",
    "\n",
    "# report model performance\n",
    "print('Original Data MAE: %.3f (%.3f)' % (mean(scores), std(scores)))\n",
    "\n"
   ]
  },
  {
   "cell_type": "markdown",
   "id": "730fe287",
   "metadata": {},
   "source": [
    "### Buatlah histogram untuk tiga cara: (normalisasi, standarisasi, dan robust scaler) untuk fitur numerik, lalu hitunglah akurasi model regresi linear (gunakan cross validation) untuk tiga cara ini (dengan memakai fitur numerik saja)"
   ]
  },
  {
   "cell_type": "code",
   "execution_count": 4,
   "id": "8b673338",
   "metadata": {},
   "outputs": [
    {
     "name": "stdout",
     "output_type": "stream",
     "text": [
      "Histogram MinMaxScaler\n"
     ]
    },
    {
     "data": {
      "image/png": "[encoded data removed]",
      "text/plain": [
       "<Figure size 640x480 with 6 Axes>"
      ]
     },
     "metadata": {},
     "output_type": "display_data"
    },
    {
     "name": "stdout",
     "output_type": "stream",
     "text": [
      "MinMaxScaler MAE: 2.025 (0.173)\n",
      "\n",
      "Histogram StandardScaler\n"
     ]
    },
    {
     "data": {
      "image/png": "[encoded data removed]",
      "text/plain": [
       "<Figure size 640x480 with 6 Axes>"
      ]
     },
     "metadata": {},
     "output_type": "display_data"
    },
    {
     "name": "stdout",
     "output_type": "stream",
     "text": [
      "StandardScaler MAE: 2.025 (0.173)\n",
      "\n",
      "Histogram RobustScaler\n"
     ]
    },
    {
     "data": {
      "image/png": "[encoded data removed]",
      "text/plain": [
       "<Figure size 640x480 with 6 Axes>"
      ]
     },
     "metadata": {},
     "output_type": "display_data"
    },
    {
     "name": "stdout",
     "output_type": "stream",
     "text": [
      "RobustScaler MAE: 2.025 (0.173)\n"
     ]
    }
   ],
   "source": [
    "import pandas as pd\n",
    "from pandas import DataFrame\n",
    "from sklearn.model_selection import cross_val_score, KFold\n",
    "from sklearn.linear_model import LinearRegression\n",
    "from sklearn.preprocessing import StandardScaler, MinMaxScaler, RobustScaler\n",
    "from matplotlib import pyplot\n",
    "\n",
    "# Membaca dataset\n",
    "dataset = read_csv('combined_data.csv')\n",
    "\n",
    "# Memisahkan atribut (fitur) dan label (target)\n",
    "# memakai fitur numerik saja\n",
    "X = dataset[['target_kecepatan', 'jarak', 'target_waktu_tempuh', 'pencapaian_kecepatan_per_koridor', 'pencapaian_waktu_tempuh']]\n",
    "y = dataset['pencapaian_kecepatan']\n",
    "\n",
    "# Normalisasi\n",
    "scaler = MinMaxScaler()\n",
    "X_normalized = scaler.fit_transform(X)\n",
    "\n",
    "# Standarisasi\n",
    "scaler = StandardScaler()\n",
    "X_standardized = scaler.fit_transform(X)\n",
    "\n",
    "# Robust Scaler\n",
    "scaler = RobustScaler()\n",
    "X_robust = scaler.fit_transform(X)\n",
    "\n",
    "# Inisialisasi model regresi linear\n",
    "model = LinearRegression()\n",
    "\n",
    "# Inisialisasi KFold dengan 10 splits\n",
    "kf = KFold(n_splits=10, shuffle=True, random_state=1)\n",
    "\n",
    "# Normalisasi\n",
    "print('Histogram MinMaxScaler')\n",
    "dataset = DataFrame(X_normalized)\n",
    "fig = dataset.hist(xlabelsize=4, ylabelsize=4)\n",
    "[x.title.set_size(4) for x in fig.ravel()]\n",
    "pyplot.show()\n",
    "scores_normalized = cross_val_score(model, X_normalized, y, cv=kf, scoring='neg_mean_absolute_error', n_jobs=-1)\n",
    "print('MinMaxScaler MAE: %.3f (%.3f)' % (-mean(scores_normalized), std(scores_normalized)))\n",
    "\n",
    "# Standarisasi\n",
    "print('\\nHistogram StandardScaler')\n",
    "dataset = DataFrame(X_standardized)\n",
    "fig = dataset.hist(xlabelsize=4, ylabelsize=4)\n",
    "[x.title.set_size(4) for x in fig.ravel()]\n",
    "pyplot.show()\n",
    "scores_standardized = cross_val_score(model, X_standardized, y, cv=kf, scoring='neg_mean_absolute_error', n_jobs=-1)\n",
    "print('StandardScaler MAE: %.3f (%.3f)' % (-mean(scores_standardized), std(scores_standardized)))\n",
    "\n",
    "# Robust Scaler\n",
    "print('\\nHistogram RobustScaler')\n",
    "dataset = DataFrame(X_robust)\n",
    "fig = dataset.hist(xlabelsize=4, ylabelsize=4)\n",
    "[x.title.set_size(4) for x in fig.ravel()]\n",
    "pyplot.show()\n",
    "scores_robust = cross_val_score(model, X_robust, y, cv=kf, scoring='neg_mean_absolute_error', n_jobs=-1)\n",
    "print('RobustScaler MAE: %.3f (%.3f)' % (-mean(scores_robust), std(scores_robust)))\n",
    "\n"
   ]
  },
  {
   "cell_type": "markdown",
   "id": "274cf1c7",
   "metadata": {},
   "source": [
    "## Gunakan onehot encoder dan ordinal encoder terhadap dataset untuk fitur kategorial. Lalu hitunglah akurasi model regresi linear (gunakan cross validation) untuk dua cara ini (dengan memakai fitur kategorial saja)"
   ]
  },
  {
   "cell_type": "code",
   "execution_count": 5,
   "id": "0b09d7b2",
   "metadata": {},
   "outputs": [
    {
     "name": "stdout",
     "output_type": "stream",
     "text": [
      "OrdinalEncoder MAE: 3.341 (0.231)\n",
      "OneHotEncoder MAE: 3.065 (0.215)\n"
     ]
    }
   ],
   "source": [
    "import pandas as pd\n",
    "from pandas import read_csv\n",
    "from numpy import absolute\n",
    "from sklearn.model_selection import cross_val_score, KFold\n",
    "from sklearn.linear_model import LinearRegression\n",
    "from sklearn.preprocessing import OneHotEncoder, OrdinalEncoder\n",
    "\n",
    "# Membaca dataset\n",
    "dataset = read_csv('combined_data.csv')\n",
    "\n",
    "# Memisahkan atribut (fitur) dan label (target)\n",
    "# memakai fitur kategorial saja\n",
    "X = dataset[['waktu', 'arah', 'koridor']]\n",
    "y = dataset['pencapaian_kecepatan']\n",
    "\n",
    "# Inisialisasi model regresi linear\n",
    "model = LinearRegression()\n",
    "\n",
    "# Inisialisasi KFold dengan 10 splits\n",
    "kf = KFold(n_splits=10, shuffle=True, random_state=1)\n",
    "\n",
    "# Ordinal Encoder\n",
    "ordinal_encoder = OrdinalEncoder()\n",
    "X_ordinal = ordinal_encoder.fit_transform(X)\n",
    "\n",
    "# Hitung akurasi menggunakan cross-validation dengan fitur kategorial yang sudah di Ordinal Encoder\n",
    "scores_ordinal = cross_val_score(model, X_ordinal, y, cv=kf, scoring='neg_mean_absolute_error', n_jobs=-1)\n",
    "scores_ordinal = absolute(scores_ordinal)\n",
    "print('OrdinalEncoder MAE: %.3f (%.3f)' % (mean(scores_ordinal), std(scores_ordinal)))\n",
    "\n",
    "# OneHot Encoder\n",
    "onehot_encoder = OneHotEncoder()\n",
    "X_onehot = onehot_encoder.fit_transform(X)\n",
    "\n",
    "# Hitung akurasi menggunakan cross-validation dengan fitur kategorial yang sudah di OneHot Encoder\n",
    "scores_onehot = cross_val_score(model, X_onehot, y, cv=kf, scoring='neg_mean_absolute_error', n_jobs=-1)\n",
    "scores_onehot = absolute(scores_onehot)\n",
    "print('OneHotEncoder MAE: %.3f (%.3f)' % (mean(scores_onehot), std(scores_onehot)))"
   ]
  },
  {
   "cell_type": "markdown",
   "id": "bc3a4244",
   "metadata": {},
   "source": [
    "## Gunakan onehot encoder dan ordinal encoder terhadap dataset untuk fitur kategorial. Lalu hitunglah akurasi model regresi linear (gunakan cross validation) untuk dua cara ini (dengan memakai fitur kategorial saja)"
   ]
  },
  {
   "cell_type": "markdown",
   "id": "d6738d7d",
   "metadata": {},
   "source": [
    "### OrdinalEncoder + MinMaxScaler"
   ]
  },
  {
   "cell_type": "code",
   "execution_count": 6,
   "id": "d09633b3",
   "metadata": {},
   "outputs": [
    {
     "name": "stdout",
     "output_type": "stream",
     "text": [
      "OrdinalEncoder + MinMaxScaler MAE: 2.025 (0.173)\n"
     ]
    }
   ],
   "source": [
    "import pandas as pd\n",
    "from numpy import absolute\n",
    "from sklearn.model_selection import cross_val_score, KFold\n",
    "from sklearn.linear_model import LinearRegression\n",
    "from sklearn.preprocessing import StandardScaler, MinMaxScaler, RobustScaler, OneHotEncoder, OrdinalEncoder\n",
    "from sklearn.compose import ColumnTransformer\n",
    "from sklearn.pipeline import Pipeline\n",
    "from sklearn.metrics import mean_absolute_error\n",
    "from numpy import mean, std\n",
    "\n",
    "# Membaca dataset\n",
    "df = pd.read_csv('combined_data.csv')\n",
    "\n",
    "# Pisahkan fitur kategorial dan numerik\n",
    "X = df[['target_kecepatan', 'jarak', 'target_waktu_tempuh', 'pencapaian_kecepatan_per_koridor', 'pencapaian_waktu_tempuh']]\n",
    "y = df['pencapaian_kecepatan']\n",
    "\n",
    "X_categorical = X.select_dtypes(include=['object', 'bool']).columns\n",
    "X_numeric = X.select_dtypes(include=['int64', 'float64']).columns\n",
    "\n",
    "t = [('cat', OrdinalEncoder(), X_categorical), ('num', MinMaxScaler(), X_numeric)]\n",
    "col_transform = ColumnTransformer(transformers=t)\n",
    "\n",
    "# Inisialisasi model regresi linear\n",
    "model = LinearRegression()\n",
    "\n",
    "pipeline = Pipeline(steps=[('prep', col_transform), ('m', model)])\n",
    "\n",
    "# Inisialisasi KFold dengan 10 splits\n",
    "kf = KFold(n_splits=10, shuffle=True, random_state=1)\n",
    "scores = cross_val_score(pipeline, X, y, scoring='neg_mean_absolute_error', cv=kf, n_jobs=-1)\n",
    "\n",
    "scores = absolute(scores)\n",
    "# report model performance\n",
    "print('OrdinalEncoder + MinMaxScaler MAE: %.3f (%.3f)' % (mean(scores), std(scores)))"
   ]
  },
  {
   "cell_type": "markdown",
   "id": "8222da00",
   "metadata": {},
   "source": [
    "### OneHotEncoder + MinMaxScaler"
   ]
  },
  {
   "cell_type": "code",
   "execution_count": 7,
   "id": "81389dc9",
   "metadata": {},
   "outputs": [
    {
     "name": "stdout",
     "output_type": "stream",
     "text": [
      "OneHotEncoder + MinMaxScaler MAE: 2.025 (0.173)\n"
     ]
    }
   ],
   "source": [
    "import pandas as pd\n",
    "from numpy import absolute\n",
    "from sklearn.model_selection import cross_val_score, KFold\n",
    "from sklearn.linear_model import LinearRegression\n",
    "from sklearn.preprocessing import StandardScaler, MinMaxScaler, RobustScaler, OneHotEncoder, OrdinalEncoder\n",
    "from sklearn.compose import ColumnTransformer\n",
    "from sklearn.pipeline import Pipeline\n",
    "from sklearn.metrics import mean_absolute_error\n",
    "from numpy import mean, std\n",
    "\n",
    "# Membaca dataset\n",
    "df = pd.read_csv('combined_data.csv')\n",
    "\n",
    "# Pisahkan fitur kategorial dan numerik\n",
    "X = df[['target_kecepatan', 'jarak', 'target_waktu_tempuh', 'pencapaian_kecepatan_per_koridor', 'pencapaian_waktu_tempuh']]\n",
    "y = df['pencapaian_kecepatan']\n",
    "\n",
    "X_categorical = X.select_dtypes(include=['object', 'bool']).columns\n",
    "X_numeric = X.select_dtypes(include=['int64', 'float64']).columns\n",
    "\n",
    "t = [('cat', OneHotEncoder(), X_categorical), ('num', MinMaxScaler(), X_numeric)]\n",
    "col_transform = ColumnTransformer(transformers=t)\n",
    "\n",
    "# Inisialisasi model regresi linear\n",
    "model = LinearRegression()\n",
    "\n",
    "pipeline = Pipeline(steps=[('prep', col_transform), ('m', model)])\n",
    "\n",
    "# Inisialisasi KFold dengan 10 splits\n",
    "kf = KFold(n_splits=10, shuffle=True, random_state=1)\n",
    "scores = cross_val_score(pipeline, X, y, scoring='neg_mean_absolute_error', cv=kf, n_jobs=-1)\n",
    "\n",
    "scores = absolute(scores)\n",
    "# report model performance\n",
    "print('OneHotEncoder + MinMaxScaler MAE: %.3f (%.3f)' % (mean(scores), std(scores)))"
   ]
  },
  {
   "cell_type": "markdown",
   "id": "14392a88",
   "metadata": {},
   "source": [
    "### OrdinalEncoder + StandardScaler"
   ]
  },
  {
   "cell_type": "code",
   "execution_count": 8,
   "id": "8f12273e",
   "metadata": {},
   "outputs": [
    {
     "name": "stdout",
     "output_type": "stream",
     "text": [
      "OrdinalEncoder + StandardScaler MAE: 2.025 (0.173)\n"
     ]
    }
   ],
   "source": [
    "import pandas as pd\n",
    "from numpy import absolute\n",
    "from sklearn.model_selection import cross_val_score, KFold\n",
    "from sklearn.linear_model import LinearRegression\n",
    "from sklearn.preprocessing import StandardScaler, MinMaxScaler, RobustScaler, OneHotEncoder, OrdinalEncoder\n",
    "from sklearn.compose import ColumnTransformer\n",
    "from sklearn.pipeline import Pipeline\n",
    "from sklearn.metrics import mean_absolute_error\n",
    "from numpy import mean, std\n",
    "\n",
    "# Membaca dataset\n",
    "df = pd.read_csv('combined_data.csv')\n",
    "\n",
    "# Pisahkan fitur kategorial dan numerik\n",
    "X = df[['target_kecepatan', 'jarak', 'target_waktu_tempuh', 'pencapaian_kecepatan_per_koridor', 'pencapaian_waktu_tempuh']]\n",
    "y = df['pencapaian_kecepatan']\n",
    "\n",
    "X_categorical = X.select_dtypes(include=['object', 'bool']).columns\n",
    "X_numeric = X.select_dtypes(include=['int64', 'float64']).columns\n",
    "\n",
    "t = [('cat', OrdinalEncoder(), X_categorical), ('num', StandardScaler(), X_numeric)]\n",
    "col_transform = ColumnTransformer(transformers=t)\n",
    "\n",
    "# Inisialisasi model regresi linear\n",
    "model = LinearRegression()\n",
    "\n",
    "pipeline = Pipeline(steps=[('prep', col_transform), ('m', model)])\n",
    "\n",
    "# Inisialisasi KFold dengan 10 splits\n",
    "kf = KFold(n_splits=10, shuffle=True, random_state=1)\n",
    "scores = cross_val_score(pipeline, X, y, scoring='neg_mean_absolute_error', cv=kf, n_jobs=-1)\n",
    "\n",
    "scores = absolute(scores)\n",
    "# report model performance\n",
    "print('OrdinalEncoder + StandardScaler MAE: %.3f (%.3f)' % (mean(scores), std(scores)))"
   ]
  },
  {
   "cell_type": "markdown",
   "id": "904b1f49",
   "metadata": {},
   "source": [
    "### OneHotEncoder + StandardScaler"
   ]
  },
  {
   "cell_type": "code",
   "execution_count": 9,
   "id": "44e38863",
   "metadata": {},
   "outputs": [
    {
     "name": "stdout",
     "output_type": "stream",
     "text": [
      "OneHotEncoder + StandardScaler MAE: 2.025 (0.173)\n"
     ]
    }
   ],
   "source": [
    "import pandas as pd\n",
    "from numpy import absolute\n",
    "from sklearn.model_selection import cross_val_score, KFold\n",
    "from sklearn.linear_model import LinearRegression\n",
    "from sklearn.preprocessing import StandardScaler, MinMaxScaler, RobustScaler, OneHotEncoder, OrdinalEncoder\n",
    "from sklearn.compose import ColumnTransformer\n",
    "from sklearn.pipeline import Pipeline\n",
    "from sklearn.metrics import mean_absolute_error\n",
    "from numpy import mean, std\n",
    "\n",
    "# Membaca dataset\n",
    "df = pd.read_csv('combined_data.csv')\n",
    "\n",
    "# Pisahkan fitur kategorial dan numerik\n",
    "X = df[['target_kecepatan', 'jarak', 'target_waktu_tempuh', 'pencapaian_kecepatan_per_koridor', 'pencapaian_waktu_tempuh']]\n",
    "y = df['pencapaian_kecepatan']\n",
    "\n",
    "X_categorical = X.select_dtypes(include=['object', 'bool']).columns\n",
    "X_numeric = X.select_dtypes(include=['int64', 'float64']).columns\n",
    "\n",
    "t = [('cat', OneHotEncoder(), X_categorical), ('num', StandardScaler(), X_numeric)]\n",
    "col_transform = ColumnTransformer(transformers=t)\n",
    "\n",
    "# Inisialisasi model regresi linear\n",
    "model = LinearRegression()\n",
    "\n",
    "pipeline = Pipeline(steps=[('prep', col_transform), ('m', model)])\n",
    "\n",
    "# Inisialisasi KFold dengan 10 splits\n",
    "kf = KFold(n_splits=10, shuffle=True, random_state=1)\n",
    "scores = cross_val_score(pipeline, X, y, scoring='neg_mean_absolute_error', cv=kf, n_jobs=-1)\n",
    "\n",
    "scores = absolute(scores)\n",
    "# report model performance\n",
    "print('OneHotEncoder + StandardScaler MAE: %.3f (%.3f)' % (mean(scores), std(scores)))"
   ]
  },
  {
   "cell_type": "markdown",
   "id": "0e04e53a",
   "metadata": {},
   "source": [
    "### OrdinalEncoder + RobustScaler"
   ]
  },
  {
   "cell_type": "code",
   "execution_count": 10,
   "id": "f3dbf7b6",
   "metadata": {},
   "outputs": [
    {
     "name": "stdout",
     "output_type": "stream",
     "text": [
      "OrdinalEncoder + RobustScaler MAE: 2.025 (0.173)\n"
     ]
    }
   ],
   "source": [
    "import pandas as pd\n",
    "from numpy import absolute\n",
    "from sklearn.model_selection import cross_val_score, KFold\n",
    "from sklearn.linear_model import LinearRegression\n",
    "from sklearn.preprocessing import StandardScaler, MinMaxScaler, RobustScaler, OneHotEncoder, OrdinalEncoder\n",
    "from sklearn.compose import ColumnTransformer\n",
    "from sklearn.pipeline import Pipeline\n",
    "from sklearn.metrics import mean_absolute_error\n",
    "from numpy import mean, std\n",
    "\n",
    "# Membaca dataset\n",
    "df = pd.read_csv('combined_data.csv')\n",
    "\n",
    "# Pisahkan fitur kategorial dan numerik\n",
    "X = df[['target_kecepatan', 'jarak', 'target_waktu_tempuh', 'pencapaian_kecepatan_per_koridor', 'pencapaian_waktu_tempuh']]\n",
    "y = df['pencapaian_kecepatan']\n",
    "\n",
    "X_categorical = X.select_dtypes(include=['object', 'bool']).columns\n",
    "X_numeric = X.select_dtypes(include=['int64', 'float64']).columns\n",
    "\n",
    "t = [('cat', OrdinalEncoder(), X_categorical), ('num', RobustScaler(), X_numeric)]\n",
    "col_transform = ColumnTransformer(transformers=t)\n",
    "\n",
    "# Inisialisasi model regresi linear\n",
    "model = LinearRegression()\n",
    "\n",
    "pipeline = Pipeline(steps=[('prep', col_transform), ('m', model)])\n",
    "\n",
    "# Inisialisasi KFold dengan 10 splits\n",
    "kf = KFold(n_splits=10, shuffle=True, random_state=1)\n",
    "scores = cross_val_score(pipeline, X, y, scoring='neg_mean_absolute_error', cv=kf, n_jobs=-1)\n",
    "scores = absolute(scores)\n",
    "\n",
    "# report model performance\n",
    "print('OrdinalEncoder + RobustScaler MAE: %.3f (%.3f)' % (mean(scores), std(scores)))"
   ]
  },
  {
   "cell_type": "markdown",
   "id": "d01039dc",
   "metadata": {},
   "source": [
    "### OrdinalEncoder + RobustScaler"
   ]
  },
  {
   "cell_type": "code",
   "execution_count": 11,
   "id": "98fe2391",
   "metadata": {},
   "outputs": [
    {
     "name": "stdout",
     "output_type": "stream",
     "text": [
      "OneHotEncoder + RobustScaler MAE: 2.025 (0.173)\n"
     ]
    }
   ],
   "source": [
    "import pandas as pd\n",
    "from numpy import absolute\n",
    "from sklearn.model_selection import cross_val_score, KFold\n",
    "from sklearn.linear_model import LinearRegression\n",
    "from sklearn.preprocessing import StandardScaler, MinMaxScaler, RobustScaler, OneHotEncoder, OrdinalEncoder\n",
    "from sklearn.compose import ColumnTransformer\n",
    "from sklearn.pipeline import Pipeline\n",
    "from sklearn.metrics import mean_absolute_error\n",
    "from numpy import mean, std\n",
    "\n",
    "# Membaca dataset\n",
    "df = pd.read_csv('combined_data.csv')\n",
    "\n",
    "# Pisahkan fitur kategorial dan numerik\n",
    "X = df[['target_kecepatan', 'jarak', 'target_waktu_tempuh', 'pencapaian_kecepatan_per_koridor', 'pencapaian_waktu_tempuh']]\n",
    "y = df['pencapaian_kecepatan']\n",
    "\n",
    "X_categorical = X.select_dtypes(include=['object', 'bool']).columns\n",
    "X_numeric = X.select_dtypes(include=['int64', 'float64']).columns\n",
    "\n",
    "t = [('cat', OneHotEncoder(), X_categorical), ('num', RobustScaler(), X_numeric)]\n",
    "col_transform = ColumnTransformer(transformers=t)\n",
    "\n",
    "# Inisialisasi model regresi linear\n",
    "model = LinearRegression()\n",
    "\n",
    "pipeline = Pipeline(steps=[('prep', col_transform), ('m', model)])\n",
    "\n",
    "# Inisialisasi KFold dengan 10 splits\n",
    "kf = KFold(n_splits=10, shuffle=True, random_state=1)\n",
    "scores = cross_val_score(pipeline, X, y, scoring='neg_mean_absolute_error', cv=kf, n_jobs=-1)\n",
    "scores = absolute(scores)\n",
    "\n",
    "# report model performance\n",
    "print('OneHotEncoder + RobustScaler MAE: %.3f (%.3f)' % (mean(scores), std(scores)))"
   ]
  }
 ],
 "metadata": {
  "kernelspec": {
   "display_name": "Python 3 (ipykernel)",
   "language": "python",
   "name": "python3"
  },
  "language_info": {
   "codemirror_mode": {
    "name": "ipython",
    "version": 3
   },
   "file_extension": ".py",
   "mimetype": "text/x-python",
   "name": "python",
   "nbconvert_exporter": "python",
   "pygments_lexer": "ipython3",
   "version": "3.10.12"
  }
 },
 "nbformat": 4,
 "nbformat_minor": 5
}
